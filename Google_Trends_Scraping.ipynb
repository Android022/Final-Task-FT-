{
  "nbformat": 4,
  "nbformat_minor": 0,
  "metadata": {
    "colab": {
      "provenance": [],
      "authorship_tag": "ABX9TyOWxy/tcoLfYwpsafYgR7pS",
      "include_colab_link": true
    },
    "kernelspec": {
      "name": "python3",
      "display_name": "Python 3"
    },
    "language_info": {
      "name": "python"
    }
  },
  "cells": [
    {
      "cell_type": "markdown",
      "metadata": {
        "id": "view-in-github",
        "colab_type": "text"
      },
      "source": [
        "<a href=\"https://colab.research.google.com/github/JacobReid02/Final-Task-FT-/blob/main/Google_Trends_Scraping.ipynb\" target=\"_parent\"><img src=\"https://colab.research.google.com/assets/colab-badge.svg\" alt=\"Open In Colab\"/></a>"
      ]
    },
    {
      "cell_type": "code",
      "source": [
        "from google.colab import drive\n",
        "import pandas as pd\n",
        "!pip install pytrends\n",
        "from pytrends.request import TrendReq\n",
        "\n",
        "# Mount Google Drive\n",
        "drive.mount('/content/drive')\n",
        "\n",
        "# Set up pytrends\n",
        "pytrends = TrendReq(hl='en-US', tz=360)\n",
        "\n",
        "# Define search parameters\n",
        "keyword = 'cinema'\n",
        "years = [2019, 2020, 2021, 2022, 2023]\n",
        "timeframes = ['{}-01-01 {}-05-31'.format(year, year) for year in years]\n",
        "geo = 'US'\n",
        "\n",
        "# Build the payload for each year\n",
        "interest_by_region_list = []\n",
        "for year, timeframe in zip(years, timeframes):\n",
        "    pytrends.build_payload(kw_list=[keyword], timeframe=timeframe, geo=geo)\n",
        "    interest_by_region = pytrends.interest_by_region(resolution='REGION')\n",
        "    interest_by_region['Year'] = year\n",
        "    interest_by_region_list.append(interest_by_region)\n",
        "\n",
        "# Concatenate the dataframes\n",
        "interest_by_region = pd.concat(interest_by_region_list)\n",
        "\n",
        "# Reshape the dataframe to have multiple columns for each state\n",
        "interest_by_region = interest_by_region.pivot_table(index='geoName', columns='Year', values=keyword)\n",
        "\n",
        "# Print the results\n",
        "print(interest_by_region)\n",
        "\n",
        "# Save the results to a CSV file\n",
        "#filename = '/content/drive/MyDrive/FT Box Office.csv'\n",
        "#interest_by_region.to_csv(filename, index=True)\n",
        "\n"
      ],
      "metadata": {
        "colab": {
          "base_uri": "https://localhost:8080/"
        },
        "id": "o8tDEOnO4DLi",
        "outputId": "d98a4635-91ee-4e7b-df75-fb92b4e28ce5"
      },
      "execution_count": 4,
      "outputs": [
        {
          "output_type": "stream",
          "name": "stdout",
          "text": [
            "Drive already mounted at /content/drive; to attempt to forcibly remount, call drive.mount(\"/content/drive\", force_remount=True).\n",
            "Year                  2019  2020  2021  2022  2023\n",
            "geoName                                           \n",
            "Alabama                 18    27    29    23    21\n",
            "Alaska                  39    54    65    55    54\n",
            "Arizona                 18    24    28    31    27\n",
            "Arkansas                50    48    59    60    62\n",
            "California              29    35    35    42    36\n",
            "Colorado                20    24    24    21    17\n",
            "Connecticut             38    44    32    33    31\n",
            "Delaware                32    32    34    33    26\n",
            "District of Columbia    31    52    31    56    51\n",
            "Florida                 26    32    32    31    31\n",
            "Georgia                 29    33    35    33    34\n",
            "Hawaii                  20    24    16    15    13\n",
            "Idaho                   63    69   100    82    70\n",
            "Illinois                27    31    32    34    36\n",
            "Indiana                 27    30    33    35    33\n",
            "Iowa                    29    36    44    38    35\n",
            "Kansas                  17    19    24    22    20\n",
            "Kentucky                33    38    43    37    38\n",
            "Louisiana               17    24    30    22    20\n",
            "Maine                   66    83    71    87    86\n",
            "Maryland                25    25    23    22    22\n",
            "Massachusetts           61    74    50    71    69\n",
            "Michigan                68    77    80    87    83\n",
            "Minnesota               41    47    46    57    60\n",
            "Mississippi             26    39    41    35    37\n",
            "Missouri                32    40    39    46    48\n",
            "Montana                 24    34    27    30    22\n",
            "Nebraska                68    64    75    81    76\n",
            "Nevada                  17    25    28    24    21\n",
            "New Hampshire           40    45    31    49    49\n",
            "New Jersey              18    22    21    19    17\n",
            "New Mexico              41    45    29    48    46\n",
            "New York                35    47    33    40    37\n",
            "North Carolina          38    43    38    36    34\n",
            "North Dakota            62    75    94    88    80\n",
            "Ohio                    40    52    39    44    37\n",
            "Oklahoma                33    34    40    34    34\n",
            "Oregon                  57    64    45    65    64\n",
            "Pennsylvania            33    41    37    39    36\n",
            "Rhode Island           100   100    88   100    85\n",
            "South Carolina          32    34    33    32    31\n",
            "South Dakota            34    47    60    58    48\n",
            "Tennessee               34    39    32    35    32\n",
            "Texas                   33    37    39    41    34\n",
            "Utah                    18    25    24    21    18\n",
            "Vermont                 45    65    34    56    64\n",
            "Virginia                43    56    61    60    59\n",
            "Washington              37    45    34    46    48\n",
            "West Virginia           54    65    62    67    67\n",
            "Wisconsin               81    91    84   100   100\n",
            "Wyoming                 18    27    37    34    32\n"
          ]
        }
      ]
    }
  ]
}